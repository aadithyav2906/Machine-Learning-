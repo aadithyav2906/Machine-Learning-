{
  "nbformat": 4,
  "nbformat_minor": 0,
  "metadata": {
    "colab": {
      "provenance": []
    },
    "kernelspec": {
      "name": "python3",
      "display_name": "Python 3"
    },
    "language_info": {
      "name": "python"
    }
  },
  "cells": [
    {
      "cell_type": "code",
      "execution_count": null,
      "metadata": {
        "id": "tWax9-LS_Xtq"
      },
      "outputs": [],
      "source": [
        "import pandas as pd\n",
        "import numpy as np\n",
        "import matplotlib.pyplot as plt\n",
        "from sklearn.model_selection import train_test_split\n",
        "from sklearn.preprocessing import StandardScaler\n",
        "from sklearn.linear_model import LinearRegression\n",
        "from sklearn.tree import DecisionTreeRegressor\n",
        "from sklearn.ensemble import RandomForestRegressor\n",
        "from xgboost import XGBRegressor\n",
        "from sklearn.metrics import r2_score\n",
        "\n",
        "\n"
      ]
    },
    {
      "cell_type": "code",
      "source": [
        "df = pd.read_csv('/content/weather_data (1).csv')"
      ],
      "metadata": {
        "id": "aujskMCxSwo6"
      },
      "execution_count": null,
      "outputs": []
    },
    {
      "cell_type": "code",
      "source": [
        "df = df.dropna()"
      ],
      "metadata": {
        "id": "1W6Aub5ESySD"
      },
      "execution_count": null,
      "outputs": []
    },
    {
      "cell_type": "code",
      "source": [
        "X = df.drop(['wind_speed'], axis=1)  # Replace 'wind_speed' with your actual target column\n",
        "y = df['wind_speed']"
      ],
      "metadata": {
        "id": "Dp4_qVwsS3qT"
      },
      "execution_count": null,
      "outputs": []
    },
    {
      "cell_type": "code",
      "source": [
        "scaler = StandardScaler()\n",
        "X_scaled = scaler.fit_transform(X)"
      ],
      "metadata": {
        "id": "H3JhsdV6S7Zp"
      },
      "execution_count": null,
      "outputs": []
    },
    {
      "cell_type": "code",
      "source": [
        "X_train, X_test, y_train, y_test = train_test_split(X_scaled, y, test_size=0.2, random_state=5)"
      ],
      "metadata": {
        "id": "ii7PYQY8S9Vl"
      },
      "execution_count": null,
      "outputs": []
    },
    {
      "cell_type": "code",
      "source": [
        "models = {\n",
        "    \"Linear Regression\": LinearRegression(),\n",
        "    \"Decision Tree\": DecisionTreeRegressor(),\n",
        "    \"Random Forest\": RandomForestRegressor(),\n",
        "    \"XGBoost\": XGBRegressor(verbosity=0)  # Set verbosity=0 to suppress output\n",
        "}"
      ],
      "metadata": {
        "id": "0kiZYYEzS_wD"
      },
      "execution_count": null,
      "outputs": []
    },
    {
      "cell_type": "code",
      "source": [
        "r2_scores = []\n",
        "model_names = []"
      ],
      "metadata": {
        "id": "NyI6WP3ATQmx"
      },
      "execution_count": null,
      "outputs": []
    },
    {
      "cell_type": "code",
      "source": [
        "for name, model in models.items():\n",
        "    model.fit(X_train, y_train)\n",
        "    preds = model.predict(X_test)\n",
        "    r2 = r2_score(y_test, preds)\n",
        "    r2_scores.append(r2)\n",
        "    model_names.append(name)\n",
        "    print(f\"{name}: R² = {r2:.4f}\")\n"
      ],
      "metadata": {
        "colab": {
          "base_uri": "https://localhost:8080/"
        },
        "id": "iiVHtm6eTRBj",
        "outputId": "a404559b-fe85-4a01-cfa6-cd7c96be6e4d"
      },
      "execution_count": null,
      "outputs": [
        {
          "output_type": "stream",
          "name": "stdout",
          "text": [
            "Linear Regression: R² = 0.0493\n",
            "Decision Tree: R² = -0.5721\n",
            "Random Forest: R² = -0.1852\n",
            "XGBoost: R² = -0.9290\n"
          ]
        }
      ]
    },
    {
      "cell_type": "code",
      "source": [
        "#Best Model\n",
        "best_index = np.argmax(r2_scores)\n",
        "best_model_name = model_names[best_index]\n",
        "best_r2 = r2_scores[best_index]"
      ],
      "metadata": {
        "id": "2ILnP32BTrap"
      },
      "execution_count": null,
      "outputs": []
    },
    {
      "cell_type": "code",
      "source": [
        "print(\"\\n Best Model:\")\n",
        "print(f\"{best_model_name} with R² = {best_r2:.4f}\")"
      ],
      "metadata": {
        "colab": {
          "base_uri": "https://localhost:8080/"
        },
        "id": "Nv7r5IQ2Txuq",
        "outputId": "90bb8799-837e-4667-cf9e-960c240d08fe"
      },
      "execution_count": null,
      "outputs": [
        {
          "output_type": "stream",
          "name": "stdout",
          "text": [
            "\n",
            " Best Model:\n",
            "Linear Regression with R² = 0.0493\n"
          ]
        }
      ]
    },
    {
      "cell_type": "code",
      "source": [
        "#Plotting the bar graph\n",
        "plt.figure()\n",
        "plt.bar(model_names,r2_scores)\n",
        "plt.xlabel(\"Model Names\")\n",
        "plt.ylabel(\"r2_scores\")\n",
        "plt.title(\"Best model\")\n",
        "plt.ylim(-1, 1)\n"
      ],
      "metadata": {
        "colab": {
          "base_uri": "https://localhost:8080/",
          "height": 489
        },
        "id": "0K0L8F2lUEP6",
        "outputId": "3c84940f-23a3-482e-8434-184fcb91bd05"
      },
      "execution_count": null,
      "outputs": [
        {
          "output_type": "execute_result",
          "data": {
            "text/plain": [
              "(-1.0, 1.0)"
            ]
          },
          "metadata": {},
          "execution_count": 77
        },
        {
          "output_type": "display_data",
          "data": {
            "text/plain": [
              "<Figure size 640x480 with 1 Axes>"
            ],
            "image/png": "[encoded data removed]"
          },
          "metadata": {}
        }
      ]
    },
    {
      "cell_type": "code",
      "source": [],
      "metadata": {
        "id": "fcHVebz5VLfC"
      },
      "execution_count": null,
      "outputs": []
    }
  ]
}